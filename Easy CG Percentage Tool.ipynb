{
 "cells": [
  {
   "cell_type": "code",
   "execution_count": 9,
   "id": "b327217d",
   "metadata": {},
   "outputs": [],
   "source": [
    "import numpy as np\n",
    "import pandas as pd"
   ]
  },
  {
   "cell_type": "code",
   "execution_count": 10,
   "id": "68ba40d2",
   "metadata": {},
   "outputs": [],
   "source": [
    "def get_perc(seq):\n",
    "    return ((seq.count('c') + seq.count('g')) / len(seq)) * 100"
   ]
  },
  {
   "cell_type": "code",
   "execution_count": 11,
   "id": "cc721f24",
   "metadata": {},
   "outputs": [],
   "source": [
    "def get_valid_GC_seqs(gene_seq, window, max_t):\n",
    "    valid_seqs = []\n",
    "    valid_i = []\n",
    "    valid_percs = []\n",
    "\n",
    "    for i in range(0, len(gene_seq) - window + 1):\n",
    "        seq = gene_seq[i:i+window]\n",
    "        perc = get_perc(seq)\n",
    "\n",
    "        if perc < max_t:\n",
    "            valid_seqs.append(seq)\n",
    "            valid_i.append(i)\n",
    "            valid_percs.append(perc)\n",
    "            \n",
    "    df = pd.DataFrame()\n",
    "    df[\"Indexes\"] = valid_i\n",
    "    df['Sequences'] = valid_seqs\n",
    "    df['CG Percentages'] = valid_percs\n",
    "    df = df.sort_values(\"CG Percentages\")\n",
    "    return df"
   ]
  },
  {
   "cell_type": "code",
   "execution_count": 21,
   "id": "a3c2b795",
   "metadata": {},
   "outputs": [],
   "source": [
    "def get_specific_seqs(seqs, cs1, cs2, max_t):\n",
    "    cs1_gc = get_perc(cs1)\n",
    "    cs2_gc = get_perc(cs2)\n",
    "    \n",
    "    valid_seqs = []\n",
    "    valid_avg1 = []\n",
    "    valid_avg2 = []\n",
    "    for s in seqs:\n",
    "        midpt = len(s) // 2\n",
    "        \n",
    "        half1 = s[:midpt]\n",
    "        half2 = s[midpt:]\n",
    "        \n",
    "        h1_gc = get_perc(half1)\n",
    "        h2_gc = get_perc(half2)\n",
    "        \n",
    "        h1_cs1_avg = np.mean([cs1_gc, h1_gc])\n",
    "        h2_cs2_avg = np.mean([cs2_gc, h2_gc])\n",
    "        \n",
    "        check1 = h1_cs1_avg < max_t\n",
    "        check2 = h2_cs2_avg < max_t\n",
    "        \n",
    "        if check1 and check2:\n",
    "            valid_seqs.append(s)\n",
    "            valid_avg1.append(h1_cs1_avg)\n",
    "            valid_avg2.append(h2_cs2_avg)\n",
    "        \n",
    "    df = pd.DataFrame()\n",
    "    df['Window Sequence'] = valid_seqs\n",
    "    df['H1 CS1 Average Perc'] = valid_avg1\n",
    "    df['H2 CS2 Average Perc'] = valid_avg2\n",
    "    return df"
   ]
  },
  {
   "cell_type": "code",
   "execution_count": 24,
   "id": "3f2388c7",
   "metadata": {},
   "outputs": [
    {
     "name": "stdout",
     "output_type": "stream",
     "text": [
      "asdad\n"
     ]
    }
   ],
   "source": [
    "gene_seq = input(\"\")"
   ]
  },
  {
   "cell_type": "code",
   "execution_count": 25,
   "id": "56a428c9",
   "metadata": {},
   "outputs": [],
   "source": [
    "window_size = 4\n",
    "threshold1 = 40"
   ]
  },
  {
   "cell_type": "code",
   "execution_count": 26,
   "id": "f89b0f64",
   "metadata": {},
   "outputs": [],
   "source": [
    "general_seq_df = get_valid_GC_seqs(gene_seq, window_size, threshold1)"
   ]
  },
  {
   "cell_type": "code",
   "execution_count": 27,
   "id": "871d7301",
   "metadata": {},
   "outputs": [
    {
     "data": {
      "text/html": [
       "<div>\n",
       "<style scoped>\n",
       "    .dataframe tbody tr th:only-of-type {\n",
       "        vertical-align: middle;\n",
       "    }\n",
       "\n",
       "    .dataframe tbody tr th {\n",
       "        vertical-align: top;\n",
       "    }\n",
       "\n",
       "    .dataframe thead th {\n",
       "        text-align: right;\n",
       "    }\n",
       "</style>\n",
       "<table border=\"1\" class=\"dataframe\">\n",
       "  <thead>\n",
       "    <tr style=\"text-align: right;\">\n",
       "      <th></th>\n",
       "      <th>Indexes</th>\n",
       "      <th>Sequences</th>\n",
       "      <th>CG Percentages</th>\n",
       "    </tr>\n",
       "  </thead>\n",
       "  <tbody>\n",
       "    <tr>\n",
       "      <th>0</th>\n",
       "      <td>0</td>\n",
       "      <td>asda</td>\n",
       "      <td>0.0</td>\n",
       "    </tr>\n",
       "    <tr>\n",
       "      <th>1</th>\n",
       "      <td>1</td>\n",
       "      <td>sdad</td>\n",
       "      <td>0.0</td>\n",
       "    </tr>\n",
       "  </tbody>\n",
       "</table>\n",
       "</div>"
      ],
      "text/plain": [
       "   Indexes Sequences  CG Percentages\n",
       "0        0      asda             0.0\n",
       "1        1      sdad             0.0"
      ]
     },
     "execution_count": 27,
     "metadata": {},
     "output_type": "execute_result"
    }
   ],
   "source": [
    "general_seq_df"
   ]
  },
  {
   "cell_type": "code",
   "execution_count": null,
   "id": "11d31691",
   "metadata": {},
   "outputs": [],
   "source": []
  },
  {
   "cell_type": "code",
   "execution_count": 28,
   "id": "9e2bc103",
   "metadata": {},
   "outputs": [],
   "source": [
    "base_seqs = general_seq_df['Sequences']"
   ]
  },
  {
   "cell_type": "code",
   "execution_count": 29,
   "id": "677c4258",
   "metadata": {},
   "outputs": [
    {
     "name": "stdout",
     "output_type": "stream",
     "text": [
      "accavavvdavdvbabda\n",
      "adabvcbavcahvsdhasjda\n"
     ]
    }
   ],
   "source": [
    "comparison_seq1 = input(\"\")\n",
    "comparison_seq2 = input(\"\")"
   ]
  },
  {
   "cell_type": "code",
   "execution_count": 30,
   "id": "5716aa53",
   "metadata": {},
   "outputs": [],
   "source": [
    "threshold2 = 40"
   ]
  },
  {
   "cell_type": "code",
   "execution_count": 31,
   "id": "31090180",
   "metadata": {},
   "outputs": [],
   "source": [
    "specific_seq_df = get_specific_seqs(base_seqs, \n",
    "                                    comparison_seq1,\n",
    "                                    comparison_seq2,\n",
    "                                    threshold2)"
   ]
  },
  {
   "cell_type": "code",
   "execution_count": 32,
   "id": "0fe46bc6",
   "metadata": {},
   "outputs": [
    {
     "data": {
      "text/html": [
       "<div>\n",
       "<style scoped>\n",
       "    .dataframe tbody tr th:only-of-type {\n",
       "        vertical-align: middle;\n",
       "    }\n",
       "\n",
       "    .dataframe tbody tr th {\n",
       "        vertical-align: top;\n",
       "    }\n",
       "\n",
       "    .dataframe thead th {\n",
       "        text-align: right;\n",
       "    }\n",
       "</style>\n",
       "<table border=\"1\" class=\"dataframe\">\n",
       "  <thead>\n",
       "    <tr style=\"text-align: right;\">\n",
       "      <th></th>\n",
       "      <th>Window Sequence</th>\n",
       "      <th>H1 CS1 Average</th>\n",
       "      <th>H2 CS2 Average</th>\n",
       "    </tr>\n",
       "  </thead>\n",
       "  <tbody>\n",
       "    <tr>\n",
       "      <th>0</th>\n",
       "      <td>asda</td>\n",
       "      <td>5.555556</td>\n",
       "      <td>4.761905</td>\n",
       "    </tr>\n",
       "    <tr>\n",
       "      <th>1</th>\n",
       "      <td>sdad</td>\n",
       "      <td>5.555556</td>\n",
       "      <td>4.761905</td>\n",
       "    </tr>\n",
       "  </tbody>\n",
       "</table>\n",
       "</div>"
      ],
      "text/plain": [
       "  Window Sequence  H1 CS1 Average  H2 CS2 Average\n",
       "0            asda        5.555556        4.761905\n",
       "1            sdad        5.555556        4.761905"
      ]
     },
     "execution_count": 32,
     "metadata": {},
     "output_type": "execute_result"
    }
   ],
   "source": [
    "specific_seq_df"
   ]
  },
  {
   "cell_type": "code",
   "execution_count": null,
   "id": "4b25aed5",
   "metadata": {},
   "outputs": [],
   "source": []
  }
 ],
 "metadata": {
  "kernelspec": {
   "display_name": "Python 3 (ipykernel)",
   "language": "python",
   "name": "python3"
  },
  "language_info": {
   "codemirror_mode": {
    "name": "ipython",
    "version": 3
   },
   "file_extension": ".py",
   "mimetype": "text/x-python",
   "name": "python",
   "nbconvert_exporter": "python",
   "pygments_lexer": "ipython3",
   "version": "3.9.13"
  }
 },
 "nbformat": 4,
 "nbformat_minor": 5
}
